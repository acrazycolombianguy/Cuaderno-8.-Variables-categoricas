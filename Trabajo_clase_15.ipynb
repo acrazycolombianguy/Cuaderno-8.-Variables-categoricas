{
  "cells": [
    {
      "cell_type": "code",
      "execution_count": 8,
      "metadata": {
        "id": "AspiAuzldNDi"
      },
      "outputs": [],
      "source": [
        "import numpy as np\n",
        "import pandas as pd\n",
        "from  scipy.stats import lognorm\n",
        "import random\n",
        "import matplotlib.pyplot as plt\n"
      ]
    },
    {
      "cell_type": "markdown",
      "metadata": {
        "id": "Uz-hYmmayNTZ"
      },
      "source": [
        "Primer metodo para generar los datos sin embargo tiene un pero solo me genera de un solo valor y yo necesito el listado."
      ]
    },
    {
      "cell_type": "code",
      "execution_count": 9,
      "metadata": {
        "colab": {
          "base_uri": "https://localhost:8080/",
          "height": 0
        },
        "id": "0koYzEdU2bb2",
        "outputId": "e459a28a-2361-4100-8760-da23d290da53"
      },
      "outputs": [
        {
          "output_type": "stream",
          "name": "stdout",
          "text": [
            "0.2372200135649288\n",
            "12273220.050374826\n"
          ]
        }
      ],
      "source": [
        "np.random.seed(10000000)\n",
        "porc_enf = np.random.lognormal(mean = 8, sigma= 3.6, size= 100)\n",
        "porc_enf\n",
        "print(porc_enf.min())\n",
        "print(porc_enf.max())"
      ]
    },
    {
      "cell_type": "code",
      "execution_count": 10,
      "metadata": {
        "colab": {
          "base_uri": "https://localhost:8080/",
          "height": 0
        },
        "id": "TH2ShzOm_rGR",
        "outputId": "6e61fc95-2f61-4030-c39f-58fee3a85c97"
      },
      "outputs": [
        {
          "output_type": "execute_result",
          "data": {
            "text/plain": [
              "0.9883166998870656"
            ]
          },
          "metadata": {},
          "execution_count": 10
        }
      ],
      "source": [
        "def lognormal(mean,sigma):\n",
        "    while True:\n",
        "        pathogen = np.random.lognormal(mean=np.log(mean),sigma=np.log(sigma),size=None)\n",
        "        if pathogen>=0 and pathogen <= 100:\n",
        "            break\n",
        "    return pathogen\n",
        "lognormal(0.8, 3.6)"
      ]
    },
    {
      "cell_type": "markdown",
      "source": [
        "Se genera un inconveniente porque solo nos esta generando de  a un solo dato"
      ],
      "metadata": {
        "id": "adAIrhfjddeY"
      }
    },
    {
      "cell_type": "code",
      "execution_count": 11,
      "metadata": {
        "colab": {
          "base_uri": "https://localhost:8080/",
          "height": 0
        },
        "id": "ubkMBTqtXXZf",
        "outputId": "7c494c48-596c-43ca-d148-07eab70021ce"
      },
      "outputs": [
        {
          "output_type": "execute_result",
          "data": {
            "text/plain": [
              "array([3.000e-02, 1.000e-02, 1.709e+01, 3.880e+00, 6.250e+00, 4.400e-01,\n",
              "       1.810e+00, 8.210e+00, 2.176e+01, 1.200e-01, 2.000e-02, 2.458e+01,\n",
              "       1.000e-02, 2.700e+00, 8.680e+00, 0.000e+00, 2.000e-02, 4.690e+00,\n",
              "       9.600e-01, 1.154e+01, 4.900e-01, 5.000e-02, 2.600e-01, 3.370e+00,\n",
              "       7.200e-01, 3.000e-02, 5.698e+01, 4.700e-01, 6.270e+00, 1.890e+00,\n",
              "       3.200e-01, 6.000e-02, 2.290e+00, 4.100e-01, 4.000e-02, 4.000e-02,\n",
              "       4.605e+01, 3.790e+00, 4.000e-02, 4.000e-02, 6.000e-02, 2.693e+01,\n",
              "       2.000e-02, 1.320e+00, 6.267e+01, 2.223e+01, 1.150e+00, 3.160e+00,\n",
              "       7.000e-02, 6.800e-01, 3.330e+00, 4.290e+00, 0.000e+00, 5.658e+01,\n",
              "       5.600e-01, 4.000e-02, 7.000e-02, 0.000e+00, 3.153e+01, 4.440e+00,\n",
              "       8.000e-02, 4.710e+00, 3.678e+01, 3.240e+00, 0.000e+00, 3.860e+00,\n",
              "       4.870e+00, 1.000e-02, 0.000e+00, 1.047e+01, 5.830e+00, 1.350e+00,\n",
              "       4.471e+01, 9.170e+00, 3.900e-01, 0.000e+00, 7.150e+00, 1.330e+00,\n",
              "       2.634e+01, 8.300e-01, 1.400e+00, 2.550e+00, 6.480e+00, 0.000e+00,\n",
              "       4.680e+00, 1.112e+01, 1.600e-01, 2.520e+00, 1.069e+01, 3.900e-01,\n",
              "       1.297e+01, 1.055e+01, 1.116e+01, 3.099e+01, 3.480e+00, 2.000e-02,\n",
              "       6.019e+01, 8.400e-01, 1.690e+00, 2.710e+00])"
            ]
          },
          "metadata": {},
          "execution_count": 11
        }
      ],
      "source": [
        "i = 0\n",
        "while True:\n",
        "   # for first iteration, make an initial vector of random values\n",
        "  if i == 0:\n",
        "    V = np.round(np.random.lognormal(0.8,sigma=3.6,size=100),2)\n",
        "\n",
        "   #Make binary vectors for those values that are out of range and in range\n",
        "  V_outRange = (V > 100) + 0.\n",
        "  V_good = (V < 100) + 0.\n",
        "\n",
        "   #keep the values in range\n",
        "  V_ok = np.multiply(V, V_good)\n",
        "\n",
        "   #Resample values that are out of range\n",
        "  V_next = np.round(np.multiply(V_outRange, np.random.lognormal(0.8, 3.6, 100)),2)\n",
        "\n",
        "   #Re-combine previous in-range values with newly sampled values\n",
        "  V = V_ok + V_next\n",
        "\n",
        "   #check to see if all values are in range, if not re-loop\n",
        "  if (np.count_nonzero(V > 100)) == 0:\n",
        "    break\n",
        "  i +=100\n",
        "V"
      ]
    },
    {
      "cell_type": "markdown",
      "metadata": {
        "id": "Ch2iE_s1umie"
      },
      "source": [
        "Fuente: https://stackoverflow.com/questions/51995490/restricting-numpy-random-lognormal-to-a-given-range-python"
      ]
    },
    {
      "cell_type": "markdown",
      "metadata": {
        "id": "DeZWQ-s4vzMj"
      },
      "source": [
        "Mostrar los valores maximos y minimos"
      ]
    },
    {
      "cell_type": "code",
      "execution_count": 25,
      "metadata": {
        "colab": {
          "base_uri": "https://localhost:8080/",
          "height": 0
        },
        "id": "xRzaqf_Vvu9c",
        "outputId": "f8f89c9f-ac04-4cd1-a305-5490718df3bc"
      },
      "outputs": [
        {
          "output_type": "stream",
          "name": "stdout",
          "text": [
            "0.0\n",
            "62.67\n"
          ]
        }
      ],
      "source": [
        "print(V.min())\n",
        "print(V.max())"
      ]
    },
    {
      "cell_type": "markdown",
      "metadata": {
        "id": "3qdNGhTbcQla"
      },
      "source": [
        "##Categorización de la variable según la escala diagramatica"
      ]
    },
    {
      "cell_type": "code",
      "execution_count": 26,
      "metadata": {
        "id": "LTxBMezfvgle"
      },
      "outputs": [],
      "source": [
        "cat_V = [] #VECTOR DE CATEGORIAS VACIO, sin embargo categorizar implica perder datos\n",
        "for pe_i in V:########cambiar este dato***\n",
        "  if(pe_i <= 2):\n",
        "    cat_V.append('A0')\n",
        "  elif(pe_i <= 4):\n",
        "    cat_V.append('A1')\n",
        "  elif(pe_i <= 8):\n",
        "    cat_V.append('A2')\n",
        "  elif(pe_i <= 12):\n",
        "    cat_V.append('A3')\n",
        "  elif(pe_i <= 27):\n",
        "    cat_V.append('A4')\n",
        "  elif(pe_i <= 45):\n",
        "    cat_V.append('A5')\n",
        "  elif(pe_i <= 71):\n",
        "    cat_V.append('A6')\n",
        "  elif(pe_i <= 93):\n",
        "    cat_V.append('A7')\n",
        "  else:\n",
        "    cat_V.append('A9')\n",
        "\n",
        "cat_V_serie = pd.Series(cat_V) #aca se esta tabulando\n"
      ]
    },
    {
      "cell_type": "code",
      "execution_count": 14,
      "metadata": {
        "colab": {
          "base_uri": "https://localhost:8080/",
          "height": 0
        },
        "id": "_sbT292jxcoi",
        "outputId": "aa682897-a029-4628-9675-72f1cf0fc914"
      },
      "outputs": [
        {
          "output_type": "execute_result",
          "data": {
            "text/plain": [
              "count     100\n",
              "unique      7\n",
              "top        A0\n",
              "freq       51\n",
              "dtype: object"
            ]
          },
          "metadata": {},
          "execution_count": 14
        }
      ],
      "source": [
        "cat_V_serie.describe() #Nos dice categorias"
      ]
    },
    {
      "cell_type": "code",
      "execution_count": 15,
      "metadata": {
        "colab": {
          "base_uri": "https://localhost:8080/",
          "height": 0
        },
        "id": "ZYcbexOExezI",
        "outputId": "5bc6f115-978a-49c4-dcb5-486286a09e81"
      },
      "outputs": [
        {
          "output_type": "execute_result",
          "data": {
            "text/plain": [
              "A0    51\n",
              "A1    13\n",
              "A2    11\n",
              "A3     9\n",
              "A4     7\n",
              "A6     5\n",
              "A5     4\n",
              "dtype: int64"
            ]
          },
          "metadata": {},
          "execution_count": 15
        }
      ],
      "source": [
        "cat_V_serie.value_counts() # estamos haciendo un conteo"
      ]
    },
    {
      "cell_type": "markdown",
      "metadata": {
        "id": "K3DpaP235Noi"
      },
      "source": [
        "Generar una grafica de linea (densidad) y de barras"
      ]
    },
    {
      "cell_type": "code",
      "execution_count": 16,
      "metadata": {
        "colab": {
          "base_uri": "https://localhost:8080/",
          "height": 282
        },
        "id": "kREBlenfxlDh",
        "outputId": "4331f491-2586-4bde-e131-8b6577feed37"
      },
      "outputs": [
        {
          "output_type": "execute_result",
          "data": {
            "text/plain": [
              "<matplotlib.axes._subplots.AxesSubplot at 0x7f0bdc92f6d0>"
            ]
          },
          "metadata": {},
          "execution_count": 16
        },
        {
          "output_type": "display_data",
          "data": {
            "text/plain": [
              "<Figure size 432x288 with 1 Axes>"
            ],
            "image/png": "[encoded data removed]"
          },
          "metadata": {
            "needs_background": "light"
          }
        }
      ],
      "source": [
        "import seaborn as sns\n",
        "sns.kdeplot(V)"
      ]
    },
    {
      "cell_type": "code",
      "execution_count": 17,
      "metadata": {
        "colab": {
          "base_uri": "https://localhost:8080/",
          "height": 282
        },
        "id": "TLM_LtGGxnkE",
        "outputId": "a20e7451-c241-47c5-8d5a-4b5053a38ef6"
      },
      "outputs": [
        {
          "output_type": "execute_result",
          "data": {
            "text/plain": [
              "<matplotlib.axes._subplots.AxesSubplot at 0x7f0bda08e210>"
            ]
          },
          "metadata": {},
          "execution_count": 17
        },
        {
          "output_type": "display_data",
          "data": {
            "text/plain": [
              "<Figure size 432x288 with 1 Axes>"
            ],
            "image/png": "[encoded data removed]"
          },
          "metadata": {
            "needs_background": "light"
          }
        }
      ],
      "source": [
        "sns.histplot(V)"
      ]
    },
    {
      "cell_type": "markdown",
      "metadata": {
        "id": "9XYTcIqS6C2k"
      },
      "source": [
        "La mayoria son sanas o con leve afectación y solo tenemos un pequeño porcentaje de las hojas afectadas supreriores al 60%"
      ]
    },
    {
      "cell_type": "code",
      "execution_count": 18,
      "metadata": {
        "colab": {
          "base_uri": "https://localhost:8080/",
          "height": 286
        },
        "id": "3rYmOtXgxqM2",
        "outputId": "85680bb6-cc70-4ddf-8a40-9671da95815d"
      },
      "outputs": [
        {
          "output_type": "execute_result",
          "data": {
            "text/plain": [
              "<matplotlib.axes._subplots.AxesSubplot at 0x7f0bd9b468d0>"
            ]
          },
          "metadata": {},
          "execution_count": 18
        },
        {
          "output_type": "display_data",
          "data": {
            "text/plain": [
              "<Figure size 432x288 with 1 Axes>"
            ],
            "image/png": "[encoded data removed]"
          },
          "metadata": {
            "needs_background": "light"
          }
        }
      ],
      "source": [
        "cat_V_serie.value_counts().plot(kind='bar')"
      ]
    },
    {
      "cell_type": "markdown",
      "metadata": {
        "id": "B9_Hjyfe7CEt"
      },
      "source": [
        "El histograma y esta grafica de barras son muy distintas porque se ve mucho mas \"suave\" (menos contranstante) que el histograma ya que el histograma muestra como se comportan realmente los datos de porcentaje de daño, nosotros al haber realizado esta categorización perdemos información."
      ]
    },
    {
      "cell_type": "markdown",
      "metadata": {
        "id": "aQQpR5O3wikX"
      },
      "source": [
        "Calcular la media  y la mediana de los datos"
      ]
    },
    {
      "cell_type": "code",
      "execution_count": 19,
      "metadata": {
        "colab": {
          "base_uri": "https://localhost:8080/",
          "height": 0
        },
        "id": "ftE6a0ZqxtHE",
        "outputId": "63ecc476-bdd8-4440-ca0c-59ab6b72815e"
      },
      "outputs": [
        {
          "output_type": "stream",
          "name": "stdout",
          "text": [
            "7.912500000000001\n"
          ]
        }
      ],
      "source": [
        "media = V.mean()\n",
        "print(media)"
      ]
    },
    {
      "cell_type": "code",
      "execution_count": 20,
      "metadata": {
        "colab": {
          "base_uri": "https://localhost:8080/",
          "height": 0
        },
        "id": "mmAkNnuvxtwk",
        "outputId": "f6f3464a-b0ec-4f25-95e3-a7d59355a4c5"
      },
      "outputs": [
        {
          "output_type": "stream",
          "name": "stdout",
          "text": [
            "1.85\n"
          ]
        }
      ],
      "source": [
        "mediana =np.median(V)\n",
        "print(mediana)"
      ]
    },
    {
      "cell_type": "markdown",
      "metadata": {
        "id": "Q78v2PB37mdd"
      },
      "source": [
        "Los datos de la media al tener datos asimetricos realmente no representan la realidad de los datos, mientras que la mediana si permite identificar la realidad de la variable. Vean el contraste entre la linea 179 y la 180.\n",
        "La mediana es 1,85 la media es 7.9125 es decir que el dato que ocupa la posición central no es el 7.9 sino el 1.85, la media al tener datos y una curva tan asimetricos la media es muy poco representativa."
      ]
    },
    {
      "cell_type": "markdown",
      "metadata": {
        "id": "cnX_hH6t9BqF"
      },
      "source": [
        "![python](https://calculadorasonline.com/wp-content/uploads/2021/02/Media-mediana-y-moda.jpg)"
      ]
    },
    {
      "cell_type": "markdown",
      "metadata": {
        "id": "rXUihX4j9SG3"
      },
      "source": [
        "La media fue de 7.9 y la mediana 1.85 al tener datos asimetricos las graficas se diferencian es por esto que podemos inferir que nosotros tenemos un sesgo o asimetria positivo. En este caso la mediana esta mas acercado a la realidad de nuestro ejercicio donde la mayoria de los datos se acercan a A1=2% del daño en escala y la grafica. Hay que recordar que la mediana es el cuartil medio (donde el 50% de los datos) y quartil inferior(25%) y quartil superior (75)."
      ]
    },
    {
      "cell_type": "markdown",
      "metadata": {
        "id": "pFriTNwd-zqd"
      },
      "source": [
        "![python](https://www.researchgate.net/profile/Bernardo-Halfeld-Vieira/publication/262457253/figure/fig1/AS:669058995347469@1536527503662/Escala-diagramatica-para-avaliacao-da-severidade-da-mancha-de-cercospora-em-melancia.png)\n"
      ]
    },
    {
      "cell_type": "markdown",
      "metadata": {
        "id": "4alQ7XQ8xwMI"
      },
      "source": [
        "Calcular los cuartiles y percentiles"
      ]
    },
    {
      "cell_type": "code",
      "execution_count": 21,
      "metadata": {
        "id": "HesLmAuNxygM",
        "colab": {
          "base_uri": "https://localhost:8080/",
          "height": 0
        },
        "outputId": "df441993-6588-4bd0-ca74-abbbed175782"
      },
      "outputs": [
        {
          "output_type": "stream",
          "name": "stdout",
          "text": [
            "0      0.03\n",
            "1      0.01\n",
            "2     17.09\n",
            "3      3.88\n",
            "4      6.25\n",
            "      ...  \n",
            "95     0.02\n",
            "96    60.19\n",
            "97     0.84\n",
            "98     1.69\n",
            "99     2.71\n",
            "Length: 100, dtype: float64\n"
          ]
        }
      ],
      "source": [
        "q1 = pd.Series(V)\n",
        "print(q1)"
      ]
    },
    {
      "cell_type": "code",
      "execution_count": 22,
      "metadata": {
        "id": "g2pL5KJKx1A6",
        "colab": {
          "base_uri": "https://localhost:8080/",
          "height": 0
        },
        "outputId": "0dfeeadf-a091-4059-e0d2-5c141db08314"
      },
      "outputs": [
        {
          "output_type": "execute_result",
          "data": {
            "text/plain": [
              "0.05     0.0000\n",
              "0.10     0.0190\n",
              "0.15     0.0300\n",
              "0.20     0.0400\n",
              "0.25     0.0700\n",
              "0.30     0.3020\n",
              "0.35     0.4595\n",
              "0.40     0.7860\n",
              "0.45     1.3255\n",
              "0.50     1.8500\n",
              "0.55     2.7045\n",
              "0.60     3.4140\n",
              "0.65     4.3425\n",
              "0.70     5.1580\n",
              "0.75     7.4150\n",
              "0.80    10.5780\n",
              "0.85    13.5880\n",
              "0.90    26.3990\n",
              "0.95    44.7770\n",
              "dtype: float64"
            ]
          },
          "metadata": {},
          "execution_count": 22
        }
      ],
      "source": [
        "q1.quantile([0.05, 0.1,0.15, 0.2,0.25,0.3,0.35,0.4,0.45,0.5,0.55,0.6,0.65,0.7,0.75,0.8,0.85,0.9,0.95])"
      ]
    },
    {
      "cell_type": "markdown",
      "metadata": {
        "id": "2C7kC3-0cGdS"
      },
      "source": [
        "\\##En cual posición debo ubicarme en la escala para estimar la severidad real"
      ]
    },
    {
      "cell_type": "code",
      "source": [
        "print(cat_V_serie.value_counts())"
      ],
      "metadata": {
        "colab": {
          "base_uri": "https://localhost:8080/",
          "height": 0
        },
        "id": "8_wHKmGBCk81",
        "outputId": "df4dd591-1095-4300-ffc7-660a62bd819b"
      },
      "execution_count": 23,
      "outputs": [
        {
          "output_type": "stream",
          "name": "stdout",
          "text": [
            "A0    51\n",
            "A1    13\n",
            "A2    11\n",
            "A3     9\n",
            "A4     7\n",
            "A6     5\n",
            "A5     4\n",
            "dtype: int64\n"
          ]
        }
      ]
    },
    {
      "cell_type": "code",
      "execution_count": 24,
      "metadata": {
        "id": "Y7akI1X9x3kr",
        "colab": {
          "base_uri": "https://localhost:8080/",
          "height": 0
        },
        "outputId": "96f87536-0a8e-4bb6-b169-7a6d83150001"
      },
      "outputs": [
        {
          "output_type": "stream",
          "name": "stdout",
          "text": [
            "10.48\n",
            "7.525\n",
            "0.1048\n"
          ]
        }
      ],
      "source": [
        "cont = cat_V_serie.value_counts()\n",
        "\n",
        "# Con el punto de corte real\n",
        "frec1 = cont * [2, 4, 8, 12, 27, 45, 71]\n",
        "print(frec1.sum()/100)\n",
        "\n",
        "# Con el punto medio\n",
        "frec2 = cont*[1, 2, 3, 13.5, 22.5, 35.5, 46.5]\n",
        "print(frec2.sum()/100)\n",
        "\n",
        "# Punto percentil 20%\n",
        "frec3 = cont*[0.02, 0.04, 0.08, 0.12, 0.27, 0.45, 0.71]\n",
        "print(frec3.sum()/100)"
      ]
    },
    {
      "cell_type": "markdown",
      "metadata": {
        "id": "m6Frw8XL_nUm"
      },
      "source": [
        "# **Conclusión**: La mayor densidad de los datos se encuentra con el de la mediana: 1.85 o en su defecto la mayoría son valores que pertenecen al grupo que en la escala corresponde al 2% de severidad. Estimando la severidad con la escala diagramatica se ignora completamente la severidad real, para hallarla hay que considerar valores en la escala menores al percentil 2%. "
      ]
    }
  ],
  "metadata": {
    "colab": {
      "name": "Trabajo clase 15.ipynb",
      "provenance": []
    },
    "kernelspec": {
      "display_name": "Python 3",
      "name": "python3"
    },
    "language_info": {
      "name": "python"
    }
  },
  "nbformat": 4,
  "nbformat_minor": 0
}